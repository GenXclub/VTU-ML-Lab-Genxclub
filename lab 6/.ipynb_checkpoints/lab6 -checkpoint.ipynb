{
 "cells": [
  {
   "cell_type": "markdown",
   "id": "sudden-wednesday",
   "metadata": {},
   "source": [
    "# Experiment 6"
   ]
  },
  {
   "cell_type": "code",
   "execution_count": 1,
   "id": "brilliant-corporation",
   "metadata": {},
   "outputs": [
    {
     "name": "stdout",
     "output_type": "stream",
     "text": [
      "Total instances in the dataset: 18\n"
     ]
    }
   ],
   "source": [
    "import pandas as pd\n",
    "import warnings \n",
    "warnings.filterwarnings('ignore')\n",
    "msg=pd.read_csv('naivetext1.csv',names=['message','label']) #Tabular form dta\n",
    "print('Total instances in the dataset:',msg.shape[0])"
   ]
  },
  {
   "cell_type": "code",
   "execution_count": 2,
   "id": "olive-instrument",
   "metadata": {},
   "outputs": [],
   "source": [
    "msg['labelnum']=msg.label.map({'pos':1,'neg':0})\n",
    "X=msg.message\n",
    "Y=msg.label"
   ]
  },
  {
   "cell_type": "code",
   "execution_count": 3,
   "id": "respective-boutique",
   "metadata": {},
   "outputs": [
    {
     "data": {
      "text/plain": [
       "0                       I love this sandwich\n",
       "1                   This is an amazing place\n",
       "2         I feel very good about these beers\n",
       "3                       This is my best work\n",
       "4                       What an awesome view\n",
       "5              I do not like this restaurant\n",
       "6                   I am tired of this stuff\n",
       "7                     I can't deal with this\n",
       "8                       He is my sworn enemy\n",
       "9                        My boss is horrible\n",
       "10                  This is an awesome place\n",
       "11    I do not like the taste of this juice \n",
       "12                           I love to dance\n",
       "13         I am sick and tired of this place\n",
       "14                      What a great holiday\n",
       "15            That is a bad locality to stay\n",
       "16            We will have good fun tomorrow\n",
       "17          I went to my enemy's house today\n",
       "Name: message, dtype: object"
      ]
     },
     "execution_count": 3,
     "metadata": {},
     "output_type": "execute_result"
    }
   ],
   "source": [
    "X"
   ]
  },
  {
   "cell_type": "code",
   "execution_count": 4,
   "id": "diverse-female",
   "metadata": {},
   "outputs": [
    {
     "data": {
      "text/plain": [
       "0      pos\n",
       "1      pos\n",
       "2      pos\n",
       "3      pos\n",
       "4      pos\n",
       "5      neg\n",
       "6      neg\n",
       "7      neg\n",
       "8      neg\n",
       "9      neg\n",
       "10     pos\n",
       "11     neg\n",
       "12     pos\n",
       "13     neg\n",
       "14     pos\n",
       "15     neg\n",
       "16     pos\n",
       "17     neg\n",
       "Name: label, dtype: object"
      ]
     },
     "execution_count": 4,
     "metadata": {},
     "output_type": "execute_result"
    }
   ],
   "source": [
    "Y"
   ]
  },
  {
   "cell_type": "code",
   "execution_count": 5,
   "id": "statutory-rider",
   "metadata": {},
   "outputs": [
    {
     "name": "stdout",
     "output_type": "stream",
     "text": [
      "\n",
      "The message and its label of first 5 instances are listed below\n",
      "I love this sandwich ,  pos\n",
      "This is an amazing place ,  pos\n",
      "I feel very good about these beers ,  pos\n",
      "This is my best work ,  pos\n",
      "What an awesome view ,  pos\n"
     ]
    }
   ],
   "source": [
    "print('\\nThe message and its label of first 5 instances are listed below')\n",
    "X5, Y5 = X[0:5], msg.label[0:5]\n",
    "for x, y in zip(X5,Y5):\n",
    "  print(x,',',y)"
   ]
  },
  {
   "cell_type": "code",
   "execution_count": null,
   "id": "dated-citation",
   "metadata": {},
   "outputs": [],
   "source": []
  }
 ],
 "metadata": {
  "kernelspec": {
   "display_name": "Python 3",
   "language": "python",
   "name": "python3"
  },
  "language_info": {
   "codemirror_mode": {
    "name": "ipython",
    "version": 3
   },
   "file_extension": ".py",
   "mimetype": "text/x-python",
   "name": "python",
   "nbconvert_exporter": "python",
   "pygments_lexer": "ipython3",
   "version": "3.7.7"
  }
 },
 "nbformat": 4,
 "nbformat_minor": 5
}
