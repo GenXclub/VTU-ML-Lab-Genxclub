{
 "cells": [
  {
   "cell_type": "markdown",
   "id": "utility-income",
   "metadata": {},
   "source": [
    "# Experiment 7"
   ]
  },
  {
   "cell_type": "markdown",
   "id": "german-studio",
   "metadata": {},
   "source": [
    "## Write a program to construct a Bayesian network considering medical data. Use this model to demonstrate the diagnosis of heart patients using standard Heart Disease Data Set. You can use Java/Python ML library classes/API.\n"
   ]
  },
  {
   "cell_type": "code",
   "execution_count": 1,
   "id": "defined-package",
   "metadata": {},
   "outputs": [],
   "source": [
    "'''\n",
    "Note:\n",
    "pip install bayespy\n",
    "pip install pgmpy\n",
    "'''\n",
    "import pandas as pd\n",
    "import numpy as np\n",
    "import bayespy as bp\n",
    "import warnings \n",
    "warnings.filterwarnings('ignore')"
   ]
  },
  {
   "cell_type": "code",
   "execution_count": 3,
   "id": "sitting-riding",
   "metadata": {},
   "outputs": [
    {
     "name": "stdout",
     "output_type": "stream",
     "text": [
      "     age  sex  cp  trestbps  chol  fbs  restecg  thalach  exang  oldpeak  \\\n",
      "0     63    1   1       145   233    1        2      150      0      2.3   \n",
      "1     67    1   4       160   286    0        2      108      1      1.5   \n",
      "2     67    1   4       120   229    0        2      129      1      2.6   \n",
      "3     37    1   3       130   250    0        0      187      0      3.5   \n",
      "4     41    0   2       130   204    0        2      172      0      1.4   \n",
      "..   ...  ...  ..       ...   ...  ...      ...      ...    ...      ...   \n",
      "298   45    1   1       110   264    0        0      132      0      1.2   \n",
      "299   68    1   4       144   193    1        0      141      0      3.4   \n",
      "300   57    1   4       130   131    0        0      115      1      1.2   \n",
      "301   57    0   2       130   236    0        2      174      0      0.0   \n",
      "302   38    1   3       138   175    0        0      173      0      0.0   \n",
      "\n",
      "     slope ca thal  heartdisease  \n",
      "0        3  0    6             0  \n",
      "1        2  3    3             2  \n",
      "2        2  2    7             1  \n",
      "3        3  0    3             0  \n",
      "4        1  0    3             0  \n",
      "..     ... ..  ...           ...  \n",
      "298      2  0    7             1  \n",
      "299      2  2    7             2  \n",
      "300      2  1    7             3  \n",
      "301      2  1    3             1  \n",
      "302      1  ?    3             0  \n",
      "\n",
      "[303 rows x 14 columns]\n",
      "Columns in the dataset\n"
     ]
    }
   ],
   "source": [
    "heart_disease=pd.read_csv(\"data7_heart.csv\")\n",
    "print(heart_disease)\n",
    "print('Columns in the dataset')\n",
    "# for col in heart_disease.columns: \n",
    "#     print(col) "
   ]
  },
  {
   "cell_type": "code",
   "execution_count": 6,
   "id": "eight-dream",
   "metadata": {},
   "outputs": [],
   "source": [
    "from pgmpy.models import BayesianModel\n",
    "from pgmpy.estimators import MaximumLikelihoodEstimator\n",
    "model=BayesianModel([('age','trestbps'), ('age', 'fbs'), ('sex', 'trestbps'), ('exang',\n",
    "'trestbps'),('trestbps','heartdisease'),('fbs','heartdisease'),('heartdisease','restecg'),\n",
    "('heartdisease','thalach'), ('heartdisease','chol')])\n",
    "model.fit(heart_disease, estimator=MaximumLikelihoodEstimator)"
   ]
  },
  {
   "cell_type": "code",
   "execution_count": 11,
   "id": "wound-authority",
   "metadata": {},
   "outputs": [
    {
     "name": "stderr",
     "output_type": "stream",
     "text": [
      "Finding Elimination Order: : 100%|█| 5/5\n",
      "Finding Elimination Order: :   0%| | 0/6\n",
      "  0%|             | 0/6 [00:00<?, ?it/s]\u001b[A\n",
      "Eliminating: thalach:   0%| | 0/6 [00:00\u001b[A\n",
      "Eliminating: chol:   0%| | 0/6 [00:00<?,\u001b[A\n",
      "Eliminating: fbs:   0%| | 0/6 [00:00<?, \u001b[A\n",
      "Eliminating: trestbps:   0%| | 0/6 [00:0\u001b[A\n",
      "Eliminating: restecg:   0%| | 0/6 [00:00\u001b[A\n",
      "Eliminating: exang: 100%|█| 6/6 [00:00<0\u001b[A\n"
     ]
    },
    {
     "name": "stdout",
     "output_type": "stream",
     "text": [
      "+-----------------+---------------------+\n",
      "| heartdisease    |   phi(heartdisease) |\n",
      "+=================+=====================+\n",
      "| heartdisease(0) |              0.6415 |\n",
      "+-----------------+---------------------+\n",
      "| heartdisease(1) |              0.1683 |\n",
      "+-----------------+---------------------+\n",
      "| heartdisease(2) |              0.0330 |\n",
      "+-----------------+---------------------+\n",
      "| heartdisease(3) |              0.1347 |\n",
      "+-----------------+---------------------+\n",
      "| heartdisease(4) |              0.0224 |\n",
      "+-----------------+---------------------+\n"
     ]
    }
   ],
   "source": [
    "from pgmpy.inference import VariableElimination\n",
    "HeartDisease_infer = VariableElimination(model)\n",
    "q = HeartDisease_infer.query(variables=['heartdisease'], evidence={'age': 1, 'sex' :0})\n",
    "print(q)"
   ]
  }
 ],
 "metadata": {
  "kernelspec": {
   "display_name": "Python 3",
   "language": "python",
   "name": "python3"
  },
  "language_info": {
   "codemirror_mode": {
    "name": "ipython",
    "version": 3
   },
   "file_extension": ".py",
   "mimetype": "text/x-python",
   "name": "python",
   "nbconvert_exporter": "python",
   "pygments_lexer": "ipython3",
   "version": "3.7.7"
  }
 },
 "nbformat": 4,
 "nbformat_minor": 5
}
